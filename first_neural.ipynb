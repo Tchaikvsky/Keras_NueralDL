{
 "cells": [
  {
   "cell_type": "markdown",
   "id": "471e8fe8-bc4c-4104-ad58-dcef01112403",
   "metadata": {},
   "source": [
    "Import Libraries:"
   ]
  },
  {
   "cell_type": "code",
   "execution_count": 3,
   "id": "9324bb86-bff9-4452-886f-7a7d87fec5f4",
   "metadata": {},
   "outputs": [],
   "source": [
    "# first neural network with keras \n",
    "#import the proper libraries\n",
    "from numpy import loadtxt\n",
    "from tensorflow.keras.models import Sequential\n",
    "from tensorflow.keras.layers import Dense"
   ]
  },
  {
   "cell_type": "markdown",
   "id": "87ffc1d6-ddba-4b36-8e90-76e17ce2b3d7",
   "metadata": {},
   "source": [
    "Load the Data:"
   ]
  },
  {
   "cell_type": "code",
   "execution_count": 9,
   "id": "6603260d-3c5b-49b1-9783-7e1933419943",
   "metadata": {},
   "outputs": [],
   "source": [
    "#Creating a map with x: rows and input variables and y: an output variable.\n",
    "#This data set is about the Pima Indians onset of diabetes. the data will be stored in a 2d-array.\n",
    "#The first dimension will be rows and the second will be columns.\n",
    "\n",
    "#load the data.\n",
    "dataset = loadtxt('pima-indians-diabetes.csv', delimiter=',')\n",
    "\n",
    "#You can split the array into two arrays by selecting subsets of columns using the standard NumPy slice operator or “:”. \n",
    "#You can select the first eight columns from index 0 to index 7 via the slice 0:8. \n",
    "#We can then select the output column (the 9th variable) via index 8.\n",
    "\n",
    "# split into input (X) and output (y) variables\n",
    "x = dataset[:,0:8]\n",
    "y = dataset[:,8]\n",
    "\n",
    "#more about array slicing and ranges: https://machinelearningmastery.com/index-slice-reshape-numpy-arrays-machine-learning-python/\n",
    "\n",
    "\n",
    "#The data should now be loaded into our program."
   ]
  },
  {
   "cell_type": "markdown",
   "id": "ba9270bf-7412-4b00-b438-779dbb98c92d",
   "metadata": {},
   "source": [
    "Define the Keras model:"
   ]
  },
  {
   "cell_type": "markdown",
   "id": "3ba3b9ef-0c60-407a-9fef-7c7f468e91b9",
   "metadata": {},
   "source": [
    "Models in Keras are a sequence of layers\n",
    "We will be using a sequential model which is a group of linear stacks. And will continue to add layers until we are happy with\n",
    "our network architecture\n",
    "\n",
    "\n",
    "When creating the first layer it's important to specicy the correct number of input features.\n",
    "In this dataset's case, 8 input variables are used so we should use the input_shape function so it will look like input_shape=(8,)\n",
    "\n",
    "Usually you can find how many layers you need from trial and error\n",
    "\n",
    "Will be using a fully-connected network structure with three layers.\n",
    "Fully connected layers are defined using the Dense class. \n",
    "You can specify the number of neurons or nodes in the layer as the first argument and the activation function using the activation argument.\n",
    "\n",
    "will be using the rectified linear unit activation function known as ReLU for the first two layers and then use a Sigmoid function for the output layer\n",
    "ReLU functions increase the performance of our models which is why we use them and sigmoid functions will ensure our network output will be between 0 and 1\n",
    "\n",
    "\n",
    "To Sum it Up:\n",
    "    \n",
    "    The model expects rows of data with 8 variables (the input_shape=(8,) argument).\n",
    "    The first hidden layer has 12 nodes and uses the relu activation function.\n",
    "    The second hidden layer has 8 nodes and uses the relu activation function.\n",
    "    The output layer has one node and uses the sigmoid activation function.\n",
    "\n"
   ]
  },
  {
   "cell_type": "code",
   "execution_count": 10,
   "id": "4bcd097a-d25a-45ba-90c9-d5ce732b6868",
   "metadata": {},
   "outputs": [
    {
     "name": "stderr",
     "output_type": "stream",
     "text": [
      "2022-08-09 10:27:27.506116: I tensorflow/core/platform/cpu_feature_guard.cc:193] This TensorFlow binary is optimized with oneAPI Deep Neural Network Library (oneDNN) to use the following CPU instructions in performance-critical operations:  AVX2 FMA\n",
      "To enable them in other operations, rebuild TensorFlow with the appropriate compiler flags.\n"
     ]
    }
   ],
   "source": [
    "model = Sequential()\n",
    "#first hidden layer\n",
    "model.add(Dense(12, input_shape=(8,), activation='relu'))\n",
    "#second hidden layer\n",
    "model.add(Dense(8, activation='relu'))\n",
    "#output layer\n",
    "model.add(Dense(1, activation='sigmoid'))\n"
   ]
  },
  {
   "cell_type": "markdown",
   "id": "a72f779b-051b-4307-8468-226508885d23",
   "metadata": {},
   "source": [
    "When we defined the first hidden layer, we actually were performing two actions due to the input_shape declaration. \n",
    "It defines the input/visible layer while also creating the first hidden layer"
   ]
  }
 ],
 "metadata": {
  "kernelspec": {
   "display_name": "Python 3 (ipykernel)",
   "language": "python",
   "name": "python3"
  },
  "language_info": {
   "codemirror_mode": {
    "name": "ipython",
    "version": 3
   },
   "file_extension": ".py",
   "mimetype": "text/x-python",
   "name": "python",
   "nbconvert_exporter": "python",
   "pygments_lexer": "ipython3",
   "version": "3.9.12"
  }
 },
 "nbformat": 4,
 "nbformat_minor": 5
}
