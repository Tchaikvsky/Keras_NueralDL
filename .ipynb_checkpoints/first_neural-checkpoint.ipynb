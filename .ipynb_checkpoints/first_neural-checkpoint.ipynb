{
 "cells": [
  {
   "cell_type": "code",
   "execution_count": 3,
   "id": "9324bb86-bff9-4452-886f-7a7d87fec5f4",
   "metadata": {},
   "outputs": [],
   "source": [
    "# first neural network with keras \n",
    "#import the proper libraries\n",
    "from numpy import loadtxt\n",
    "from tensorflow.keras.models import Sequential\n",
    "from tensorflow.keras.layers import Dense"
   ]
  },
  {
   "cell_type": "code",
   "execution_count": 8,
   "id": "6603260d-3c5b-49b1-9783-7e1933419943",
   "metadata": {},
   "outputs": [],
   "source": [
    "#Creating a map with x: rows and input variables and y: an output variable.\n",
    "#This data set is about the Pima Indians onset of diabetes. the data will be stored in a 2d-array.\n",
    "#The first dimension will be rows and the second will be columns.\n",
    "\n",
    "#load the data.\n",
    "dataset = loadtxt('pima-indians-diabetes.csv', delimiter=',')\n",
    "\n",
    "#You can split the array into two arrays by selecting subsets of columns using the standard NumPy slice operator or “:”. \n",
    "#You can select the first eight columns from index 0 to index 7 via the slice 0:8. \n",
    "#We can then select the output column (the 9th variable) via index 8.\n",
    "\n",
    "# split into input (X) and output (y) variables\n",
    "x = dataset[:,0:8]\n",
    "y = dataset[:,8]\n",
    "\n",
    "#more about array slicing and ranges: https://machinelearningmastery.com/index-slice-reshape-numpy-arrays-machine-learning-python/\n",
    "\n",
    "\n",
    "#The data should now be loaded into our program."
   ]
  },
  {
   "cell_type": "code",
   "execution_count": null,
   "id": "9f79f87c-6c29-4c45-b92e-d5e0762ada58",
   "metadata": {},
   "outputs": [],
   "source": []
  }
 ],
 "metadata": {
  "kernelspec": {
   "display_name": "Python 3 (ipykernel)",
   "language": "python",
   "name": "python3"
  },
  "language_info": {
   "codemirror_mode": {
    "name": "ipython",
    "version": 3
   },
   "file_extension": ".py",
   "mimetype": "text/x-python",
   "name": "python",
   "nbconvert_exporter": "python",
   "pygments_lexer": "ipython3",
   "version": "3.9.12"
  }
 },
 "nbformat": 4,
 "nbformat_minor": 5
}
